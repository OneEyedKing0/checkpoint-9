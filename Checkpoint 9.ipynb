{
 "cells": [
  {
   "cell_type": "code",
   "execution_count": 4,
   "id": "40ca9024",
   "metadata": {},
   "outputs": [
    {
     "name": "stdout",
     "output_type": "stream",
     "text": [
      "True\n"
     ]
    }
   ],
   "source": [
    "def binary_search(sequence, item):\n",
    "    begin_index = 0\n",
    "    end_index = len(sequence) - 1\n",
    "    \n",
    "    while begin_index <= end_index:\n",
    "        point = begin_index + (end_index - begin_index)  // 2\n",
    "        point_value = sequence[point]\n",
    "        if point_value == item:\n",
    "            return True\n",
    "        \n",
    "        elif item < point_value:\n",
    "            end_index = point - 1\n",
    "            \n",
    "        else:\n",
    "            begin_index = point + 1\n",
    "    \n",
    "    return False \n",
    "    \n",
    "sequence_a = [1,2,3,5,8]    \n",
    "item_a = 5\n",
    "\n",
    "print(binary_search(sequence_a, item_a))\n",
    "    "
   ]
  },
  {
   "cell_type": "code",
   "execution_count": 6,
   "id": "31b6f54d",
   "metadata": {},
   "outputs": [
    {
     "name": "stdout",
     "output_type": "stream",
     "text": [
      "390625\n"
     ]
    }
   ],
   "source": [
    "def power(a,b):\n",
    "    if b==0:\n",
    "        return 1\n",
    "    elif a==0:\n",
    "        return 0\n",
    "    elif b==1:\n",
    "        return a\n",
    "    else:\n",
    "        return a*power(a,b-1)\n",
    "\n",
    "print(power(5,8))"
   ]
  },
  {
   "cell_type": "code",
   "execution_count": 7,
   "id": "960eb428",
   "metadata": {},
   "outputs": [
    {
     "name": "stdout",
     "output_type": "stream",
     "text": [
      "Sorted array is:\n",
      " 11\n",
      " 12\n",
      " 22\n",
      " 25\n",
      " 34\n",
      " 64\n",
      " 90\n"
     ]
    }
   ],
   "source": [
    "def bubbleSort(arr):\n",
    "    n = len(arr)\n",
    "    for i in range(n-1):  \n",
    "        for j in range(0, n-i-1):   \n",
    "            if arr[j] > arr[j + 1] :\n",
    "                arr[j], arr[j + 1] = arr[j + 1], arr[j]\n",
    "  \n",
    "\n",
    "arr= [64, 34, 25, 12, 22, 11, 90]\n",
    "  \n",
    "bubbleSort(arr)\n",
    "  \n",
    "print (\"Sorted array is:\")\n",
    "for i in range(len(arr)):\n",
    "    print (\"% d\" % arr[i]),"
   ]
  },
  {
   "cell_type": "code",
   "execution_count": 9,
   "id": "362882cc",
   "metadata": {},
   "outputs": [
    {
     "name": "stdout",
     "output_type": "stream",
     "text": [
      "Given array is\n",
      "12\n",
      "11\n",
      "13\n",
      "5\n",
      "6\n",
      "7\n",
      "\n",
      "\n",
      "Sorted array is\n",
      "5\n",
      "6\n",
      "7\n",
      "11\n",
      "12\n",
      "13\n"
     ]
    }
   ],
   "source": [
    "def merge(arr, l, m, r):\n",
    "    n1 = m - l + 1\n",
    "    n2 = r - m\n",
    " \n",
    "    \n",
    "    L = [0] * (n1)\n",
    "    R = [0] * (n2)\n",
    " \n",
    "    \n",
    "    for i in range(0, n1):\n",
    "        L[i] = arr[l + i]\n",
    " \n",
    "    for j in range(0, n2):\n",
    "        R[j] = arr[m + 1 + j]\n",
    " \n",
    "    \n",
    "    i = 0     \n",
    "    j = 0     \n",
    "    k = l     \n",
    " \n",
    "    while i < n1 and j < n2:\n",
    "        if L[i] <= R[j]:\n",
    "            arr[k] = L[i]\n",
    "            i += 1\n",
    "        else:\n",
    "            arr[k] = R[j]\n",
    "            j += 1\n",
    "        k += 1\n",
    " \n",
    "    \n",
    "    while i < n1:\n",
    "        arr[k] = L[i]\n",
    "        i += 1\n",
    "        k += 1\n",
    " \n",
    "    \n",
    "    while j < n2:\n",
    "        arr[k] = R[j]\n",
    "        j += 1\n",
    "        k += 1\n",
    "        \n",
    "def mergeSort(arr, l, r):\n",
    "    if l < r:\n",
    "        m = l+(r-l)//2\n",
    " \n",
    "        \n",
    "        mergeSort(arr, l, m)\n",
    "        mergeSort(arr, m+1, r)\n",
    "        merge(arr, l, m, r)\n",
    " \n",
    " \n",
    "\n",
    "arr = [12, 11, 13, 5, 6, 7]\n",
    "n = len(arr)\n",
    "print(\"Given array is\")\n",
    "for i in range(n):\n",
    "    print(\"%d\" % arr[i]),\n",
    " \n",
    "mergeSort(arr, 0, n-1)\n",
    "print(\"\\n\\nSorted array is\")\n",
    "for i in range(n):\n",
    "    print(\"%d\" % arr[i]),"
   ]
  },
  {
   "cell_type": "code",
   "execution_count": 11,
   "id": "d7dc1ca4",
   "metadata": {},
   "outputs": [
    {
     "name": "stdout",
     "output_type": "stream",
     "text": [
      "[17, 20, 26, 31, 44, 54, 55, 77, 93]\n"
     ]
    }
   ],
   "source": [
    "def quickSort(data_list):\n",
    "   quickSortHlp(data_list,0,len(data_list)-1)\n",
    "\n",
    "def quickSortHlp(data_list,first,last):\n",
    "   if first < last:\n",
    "\n",
    "       splitpoint = partition(data_list,first,last)\n",
    "\n",
    "       quickSortHlp(data_list,first,splitpoint-1)\n",
    "       quickSortHlp(data_list,splitpoint+1,last)\n",
    "\n",
    "\n",
    "def partition(data_list,first,last):\n",
    "   pivotvalue = data_list[first]\n",
    "\n",
    "   leftmark = first+1\n",
    "   rightmark = last\n",
    "\n",
    "   done = False\n",
    "   while not done:\n",
    "\n",
    "       while leftmark <= rightmark and data_list[leftmark] <= pivotvalue:\n",
    "           leftmark = leftmark + 1\n",
    "\n",
    "       while data_list[rightmark] >= pivotvalue and rightmark >= leftmark:\n",
    "           rightmark = rightmark -1\n",
    "\n",
    "       if rightmark < leftmark:\n",
    "           done = True\n",
    "       else:\n",
    "           temp = data_list[leftmark]\n",
    "           data_list[leftmark] = data_list[rightmark]\n",
    "           data_list[rightmark] = temp\n",
    "\n",
    "   temp = data_list[first]\n",
    "   data_list[first] = data_list[rightmark]\n",
    "   data_list[rightmark] = temp\n",
    "\n",
    "\n",
    "   return rightmark\n",
    "\n",
    "data_list = [54,26,93,17,77,31,44,55,20]\n",
    "quickSort(data_list)\n",
    "print(data_list)"
   ]
  }
 ],
 "metadata": {
  "kernelspec": {
   "display_name": "Python 3",
   "language": "python",
   "name": "python3"
  },
  "language_info": {
   "codemirror_mode": {
    "name": "ipython",
    "version": 3
   },
   "file_extension": ".py",
   "mimetype": "text/x-python",
   "name": "python",
   "nbconvert_exporter": "python",
   "pygments_lexer": "ipython3",
   "version": "3.8.8"
  }
 },
 "nbformat": 4,
 "nbformat_minor": 5
}
